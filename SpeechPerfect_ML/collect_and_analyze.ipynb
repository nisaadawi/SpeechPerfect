{
 "cells": [
  {
   "cell_type": "code",
   "execution_count": 4,
   "id": "8f19f69f",
   "metadata": {},
   "outputs": [
    {
     "ename": "KeyboardInterrupt",
     "evalue": "",
     "output_type": "error",
     "traceback": [
      "\u001b[1;31m---------------------------------------------------------------------------\u001b[0m",
      "\u001b[1;31mKeyboardInterrupt\u001b[0m                         Traceback (most recent call last)",
      "Cell \u001b[1;32mIn[4], line 11\u001b[0m\n\u001b[0;32m      8\u001b[0m \u001b[38;5;28;01mfrom\u001b[39;00m \u001b[38;5;21;01mdeepface\u001b[39;00m \u001b[38;5;28;01mimport\u001b[39;00m DeepFace\n\u001b[0;32m     10\u001b[0m \u001b[38;5;66;03m# --- 1. Facial Emotion Detection ---\u001b[39;00m\n\u001b[1;32m---> 11\u001b[0m cap \u001b[38;5;241m=\u001b[39m \u001b[43mcv2\u001b[49m\u001b[38;5;241;43m.\u001b[39;49m\u001b[43mVideoCapture\u001b[49m\u001b[43m(\u001b[49m\u001b[38;5;241;43m0\u001b[39;49m\u001b[43m)\u001b[49m\n\u001b[0;32m     12\u001b[0m ret, frame \u001b[38;5;241m=\u001b[39m cap\u001b[38;5;241m.\u001b[39mread()\n\u001b[0;32m     13\u001b[0m cap\u001b[38;5;241m.\u001b[39mrelease()\n",
      "\u001b[1;31mKeyboardInterrupt\u001b[0m: "
     ]
    }
   ],
   "source": [
    "# 1. collect_and_analyze.py\n",
    "# Backend Script to collect webcam frame, record speech, mock HRV, and analyze all inputs.\n",
    "\n",
    "import speech_recognition as sr\n",
    "import cv2\n",
    "import json\n",
    "import random\n",
    "from deepface import DeepFace\n",
    "\n",
    "# --- 1. Facial Emotion Detection ---\n",
    "cap = cv2.VideoCapture(0)\n",
    "ret, frame = cap.read()\n",
    "cap.release()\n",
    "\n",
    "if ret:\n",
    "    try:\n",
    "        analysis = DeepFace.analyze(frame, actions=['emotion'], enforce_detection=False)\n",
    "        emotion = analysis[0]['dominant_emotion']\n",
    "    except:\n",
    "        emotion = \"neutral\"\n",
    "else:\n",
    "    emotion = \"unknown\"\n",
    "\n",
    "# --- 2. Speech Recognition & Filler Word Count ---\n",
    "recognizer = sr.Recognizer()\n",
    "with sr.Microphone() as source:\n",
    "    print(\"Listening for 5 seconds...\")\n",
    "    audio = recognizer.listen(source, timeout=5, phrase_time_limit=5)\n",
    "\n",
    "try:\n",
    "    transcript = recognizer.recognize_google(audio)\n",
    "    words = transcript.lower().split()\n",
    "    filler_words = [w for w in words if w in ['um', 'uh', 'like', 'you know']]\n",
    "    filler_count = len(filler_words)\n",
    "    clarity = \"high\" if filler_count < 2 else \"low\"\n",
    "except:\n",
    "    transcript = \"\"\n",
    "    filler_count = 0\n",
    "    clarity = \"low\"\n",
    "\n",
    "# --- 3. Simulated HRV Data ---\n",
    "# Normally from serial/BLE device; here we simulate it\n",
    "hrv = random.randint(45, 80)  # Lower = more stressed\n",
    "\n",
    "# --- 4. Save to JSON ---\n",
    "data = {\n",
    "    \"emotion\": emotion,\n",
    "    \"transcript\": transcript,\n",
    "    \"filler_words\": filler_count,\n",
    "    \"speech_clarity\": clarity,\n",
    "    \"hrv\": hrv\n",
    "}\n",
    "\n",
    "with open(\"/data.json\", \"w\") as f:\n",
    "    json.dump(data, f, indent=4)\n",
    "\n",
    "print(\"Data written to backend/data.json\")\n"
   ]
  }
 ],
 "metadata": {
  "kernelspec": {
   "display_name": "base",
   "language": "python",
   "name": "python3"
  },
  "language_info": {
   "codemirror_mode": {
    "name": "ipython",
    "version": 3
   },
   "file_extension": ".py",
   "mimetype": "text/x-python",
   "name": "python",
   "nbconvert_exporter": "python",
   "pygments_lexer": "ipython3",
   "version": "3.9.12"
  }
 },
 "nbformat": 4,
 "nbformat_minor": 5
}
